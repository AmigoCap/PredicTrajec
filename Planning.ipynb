{
 "cells": [
  {
   "cell_type": "markdown",
   "metadata": {},
   "source": [
    "# Planning\n",
    "\n",
    "### Jusqu'à fin Avril :\n",
    "\n",
    "* <del>Réaliser des prédictions simple après avoir récuperer des données de https://github.com/AmigoCap/GPSFlow/</del>\n",
    "    * <del>Etant donné un nombre de points, faire un curve fiting et realiser les prédictions des N points suivants.</del>\n",
    "    * <del>Etant donné N points, chercher la trajectoire existante la plus similaire/probable (Distance euclédienne).</del>\n",
    "   \n",
    "* <del>Prédiction avec donnés non-spatiales</del>\n",
    "    * <del> Utiliser des données non-spatiales tout comme l'heure, la météo ou la vitesse de déplacement par exemple pour réaliser les prédictions.</del>\n",
    "    * <del>Combiner les données non-spatiales utlisées avec des similarités spatiales.</del>\n",
    "\n",
    "* Machine Learning + étendre le jeu de données\n",
    "    * <del>Etat de l’art/discussion méthodes d’apprentissage.</del>\n",
    "    * Création d'un jeu de données.  \n",
    "    * Utiliser OpenStreetMap (trajectoires GPS sur Lyon) pour pouvoir generer vos propres données.\n",
    "    * Data augmentation (ajout de randomness).\n",
    "    \n",
    "### Prochaines étapes :\n",
    "* Faire un algorithme (Python) qui a pour but d'extraire les principales trajectoires d'une personne et ses caractéristiques. \n",
    "    * Le point de départ et d'arrivée.\n",
    "    * Similarité et groupement de trajectoires.\n",
    "    * Les heures et durées des trajectoires.\n",
    "* Testez avec des données Google Takeout."
   ]
  }
 ],
 "metadata": {
  "kernelspec": {
   "display_name": "Python 3",
   "language": "python",
   "name": "python3"
  },
  "language_info": {
   "codemirror_mode": {
    "name": "ipython",
    "version": 3
   },
   "file_extension": ".py",
   "mimetype": "text/x-python",
   "name": "python",
   "nbconvert_exporter": "python",
   "pygments_lexer": "ipython3",
   "version": "3.6.4"
  }
 },
 "nbformat": 4,
 "nbformat_minor": 2
}
