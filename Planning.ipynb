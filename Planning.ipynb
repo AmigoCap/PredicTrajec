{
 "cells": [
  {
   "cell_type": "markdown",
   "metadata": {},
   "source": [
    "# Planning\n",
    "\n",
    "### Jusqu'à fin Avril :\n",
    "\n",
    "* <del>Réaliser des prédictions simple après avoir récuperer des données de https://github.com/AmigoCap/GPSFlow/</del>\n",
    "    * <del>Etant donné un nombre de points, faire un curve fiting et realiser les prédictions des N points suivants.</del>\n",
    "    * <del>Etant donné N points, chercher la trajectoire existante la plus similaire/probable (Distance euclédienne).</del>\n",
    "   \n",
    "* <del>Prédiction avec donnés non-spatiales</del>\n",
    "    * <del> Utiliser des données non-spatiales tout comme l'heure, la météo ou la vitesse de déplacement par exemple pour réaliser les prédictions.</del>\n",
    "    * <del>Combiner les données non-spatiales utlisées avec des similarités spatiales.</del>\n",
    "\n",
    "* Machine Learning + étendre le jeu de données\n",
    "    * <del>Etat de l’art/discussion méthodes d’apprentissage.</del>\n",
    "    * Création d'un jeu de données.  \n",
    "    * Utiliser OpenStreetMap (trajectoires GPS sur Lyon) pour pouvoir generer vos propres données.\n",
    "    * Data augmentation (ajout de randomness).\n",
    "    \n",
    "### Prochaines étapes :\n",
    "\n",
    "##### Mai :\n",
    "\n",
    "###### * Première semaine\n",
    "* <del>Voir le projet [GPSFLOW](https://github.com/AmigoCap/GPSFlow/) en détail et comprendre comment les données sont traitées.</del>\n",
    "* <del>En s'appuyant sur ce dernier construire les premiers codes permettant d'extraire des caractéristiques simples comme (découper la trajectoire en sous trajectoire s'il y en a plusieurs périodes de repos, déterminer le point départ et le point d'arrivé, etc).</del>\n",
    "\n",
    "###### * Deuxième semaine\n",
    "\n",
    "* Faire un algorithme (Python) qui a pour but d'extraire les principales trajectoires d'une personne et ses caractéristiques. \n",
    "    * <del>Le point de départ et d'arrivée.</del>\n",
    "    * <del>Similarité et groupement de trajectoires.</del>\n",
    "    * <del>Les heures et durées des trajectoires.</del>\n",
    "    * Determiner les modes de transports\n",
    "* Testez avec des données Google Takeout."
   ]
  },
  {
   "cell_type": "markdown",
   "metadata": {},
   "source": [
    "##### * Troisième semaine --> La fin du projet"
   ]
  },
  {
   "cell_type": "markdown",
   "metadata": {},
   "source": [
    "* Implementer un réseau de neurones qui permet de prédire la trajectoire en proposant plusieurs recommandations de trajectoires possible et en variant les différents paramètres explicatifs :\n",
    "    * Conception de l'algorithme (Entrées : vitesse, L'heure, la météo... ===> Sortie : Position)\n",
    "    * Simulation de l'algorithme sur plusieurs journées et conclusion\n",
    "    * Réalisation d'un notebook interactif permettant de faire varier les paramètres et visualiser les résultats graphiquement"
   ]
  },
  {
   "cell_type": "code",
   "execution_count": null,
   "metadata": {},
   "outputs": [],
   "source": []
  }
 ],
 "metadata": {
  "kernelspec": {
   "display_name": "Python 3",
   "language": "python",
   "name": "python3"
  },
  "language_info": {
   "codemirror_mode": {
    "name": "ipython",
    "version": 3
   },
   "file_extension": ".py",
   "mimetype": "text/x-python",
   "name": "python",
   "nbconvert_exporter": "python",
   "pygments_lexer": "ipython3",
   "version": "3.6.4"
  }
 },
 "nbformat": 4,
 "nbformat_minor": 2
}
