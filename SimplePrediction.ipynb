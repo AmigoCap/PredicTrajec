{
 "cells": [
  {
   "cell_type": "markdown",
   "metadata": {},
   "source": [
    "### Semaine 2 : Des modèles simple de prédictions"
   ]
  },
  {
   "cell_type": "markdown",
   "metadata": {},
   "source": [
    "Après la petite documentation que nous avions faite, nous sommes allés directement à appliquer des méthodes plus au moins simple sur la base de donnée fournie par le projet suivant : [Analyse de trajectoires](https://github.com/AmigoCap/GPSFlow/blob/master/3-Segmentation.ipynb)"
   ]
  },
  {
   "cell_type": "markdown",
   "metadata": {},
   "source": [
    "Nous avons rencontré un problème lors de l'exploitation des données, la base de donnée était trop lourde ce qui nous n'a limité à travailler juste sur un petit échantillon."
   ]
  },
  {
   "cell_type": "markdown",
   "metadata": {},
   "source": [
    "##### Regression linéaire : Y = a x + b "
   ]
  },
  {
   "cell_type": "code",
   "execution_count": 12,
   "metadata": {},
   "outputs": [
    {
     "name": "stdout",
     "output_type": "stream",
     "text": [
      "Populating the interactive namespace from numpy and matplotlib\n"
     ]
    }
   ],
   "source": [
    "import numpy as np\n",
    "import pandas as pd\n",
    "from sklearn.linear_model import LinearRegression\n",
    "%pylab inline\n",
    "import matplotlib.pyplot as plt\n",
    "%matplotlib inline"
   ]
  },
  {
   "cell_type": "code",
   "execution_count": 13,
   "metadata": {},
   "outputs": [],
   "source": [
    "raw = pd.io.json.read_json(\"data/iphone.json\") # Collecte des données à partir du fichier iphone.json\n",
    "df = raw['locations'].apply(pd.Series) \n",
    "\n",
    "# Filtrer les données : latitude and longitude columns\n",
    "df['latitude'] = df['latitudeE7'] * 0.0000001\n",
    "df['longitude'] = df['longitudeE7'] * 0.0000001\n",
    "columns = [\"latitude\", \"longitude\"]\n",
    "for col in list(df) :\n",
    "\tif col not in columns :\n",
    "\t\tdel df[col]"
   ]
  },
  {
   "cell_type": "code",
   "execution_count": 14,
   "metadata": {
    "scrolled": true
   },
   "outputs": [
    {
     "data": {
      "text/html": [
       "<div>\n",
       "<style scoped>\n",
       "    .dataframe tbody tr th:only-of-type {\n",
       "        vertical-align: middle;\n",
       "    }\n",
       "\n",
       "    .dataframe tbody tr th {\n",
       "        vertical-align: top;\n",
       "    }\n",
       "\n",
       "    .dataframe thead th {\n",
       "        text-align: right;\n",
       "    }\n",
       "</style>\n",
       "<table border=\"1\" class=\"dataframe\">\n",
       "  <thead>\n",
       "    <tr style=\"text-align: right;\">\n",
       "      <th></th>\n",
       "      <th>latitude</th>\n",
       "      <th>longitude</th>\n",
       "    </tr>\n",
       "  </thead>\n",
       "  <tbody>\n",
       "    <tr>\n",
       "      <th>0</th>\n",
       "      <td>45.756972</td>\n",
       "      <td>4.834450</td>\n",
       "    </tr>\n",
       "    <tr>\n",
       "      <th>1</th>\n",
       "      <td>45.756961</td>\n",
       "      <td>4.834579</td>\n",
       "    </tr>\n",
       "    <tr>\n",
       "      <th>2</th>\n",
       "      <td>45.756251</td>\n",
       "      <td>4.833615</td>\n",
       "    </tr>\n",
       "    <tr>\n",
       "      <th>3</th>\n",
       "      <td>45.756069</td>\n",
       "      <td>4.833665</td>\n",
       "    </tr>\n",
       "    <tr>\n",
       "      <th>4</th>\n",
       "      <td>45.752833</td>\n",
       "      <td>4.832869</td>\n",
       "    </tr>\n",
       "    <tr>\n",
       "      <th>5</th>\n",
       "      <td>45.753032</td>\n",
       "      <td>4.831799</td>\n",
       "    </tr>\n",
       "    <tr>\n",
       "      <th>6</th>\n",
       "      <td>45.752684</td>\n",
       "      <td>4.833024</td>\n",
       "    </tr>\n",
       "    <tr>\n",
       "      <th>7</th>\n",
       "      <td>45.753192</td>\n",
       "      <td>4.831967</td>\n",
       "    </tr>\n",
       "    <tr>\n",
       "      <th>8</th>\n",
       "      <td>45.752833</td>\n",
       "      <td>4.832869</td>\n",
       "    </tr>\n",
       "    <tr>\n",
       "      <th>9</th>\n",
       "      <td>45.752939</td>\n",
       "      <td>4.833662</td>\n",
       "    </tr>\n",
       "    <tr>\n",
       "      <th>10</th>\n",
       "      <td>45.749828</td>\n",
       "      <td>4.824872</td>\n",
       "    </tr>\n",
       "    <tr>\n",
       "      <th>11</th>\n",
       "      <td>45.763588</td>\n",
       "      <td>4.802621</td>\n",
       "    </tr>\n",
       "    <tr>\n",
       "      <th>12</th>\n",
       "      <td>45.774840</td>\n",
       "      <td>4.784169</td>\n",
       "    </tr>\n",
       "    <tr>\n",
       "      <th>13</th>\n",
       "      <td>45.774386</td>\n",
       "      <td>4.784779</td>\n",
       "    </tr>\n",
       "    <tr>\n",
       "      <th>14</th>\n",
       "      <td>45.786461</td>\n",
       "      <td>4.782466</td>\n",
       "    </tr>\n",
       "    <tr>\n",
       "      <th>15</th>\n",
       "      <td>45.785792</td>\n",
       "      <td>4.769493</td>\n",
       "    </tr>\n",
       "    <tr>\n",
       "      <th>16</th>\n",
       "      <td>45.783725</td>\n",
       "      <td>4.770414</td>\n",
       "    </tr>\n",
       "    <tr>\n",
       "      <th>17</th>\n",
       "      <td>45.782913</td>\n",
       "      <td>4.766565</td>\n",
       "    </tr>\n",
       "    <tr>\n",
       "      <th>18</th>\n",
       "      <td>45.782812</td>\n",
       "      <td>4.766814</td>\n",
       "    </tr>\n",
       "    <tr>\n",
       "      <th>19</th>\n",
       "      <td>45.769596</td>\n",
       "      <td>4.769989</td>\n",
       "    </tr>\n",
       "    <tr>\n",
       "      <th>20</th>\n",
       "      <td>45.771835</td>\n",
       "      <td>4.777785</td>\n",
       "    </tr>\n",
       "    <tr>\n",
       "      <th>21</th>\n",
       "      <td>45.790937</td>\n",
       "      <td>4.812865</td>\n",
       "    </tr>\n",
       "    <tr>\n",
       "      <th>22</th>\n",
       "      <td>45.790112</td>\n",
       "      <td>4.866778</td>\n",
       "    </tr>\n",
       "  </tbody>\n",
       "</table>\n",
       "</div>"
      ],
      "text/plain": [
       "     latitude  longitude\n",
       "0   45.756972   4.834450\n",
       "1   45.756961   4.834579\n",
       "2   45.756251   4.833615\n",
       "3   45.756069   4.833665\n",
       "4   45.752833   4.832869\n",
       "5   45.753032   4.831799\n",
       "6   45.752684   4.833024\n",
       "7   45.753192   4.831967\n",
       "8   45.752833   4.832869\n",
       "9   45.752939   4.833662\n",
       "10  45.749828   4.824872\n",
       "11  45.763588   4.802621\n",
       "12  45.774840   4.784169\n",
       "13  45.774386   4.784779\n",
       "14  45.786461   4.782466\n",
       "15  45.785792   4.769493\n",
       "16  45.783725   4.770414\n",
       "17  45.782913   4.766565\n",
       "18  45.782812   4.766814\n",
       "19  45.769596   4.769989\n",
       "20  45.771835   4.777785\n",
       "21  45.790937   4.812865\n",
       "22  45.790112   4.866778"
      ]
     },
     "execution_count": 14,
     "metadata": {},
     "output_type": "execute_result"
    }
   ],
   "source": [
    "df.head(23)"
   ]
  },
  {
   "cell_type": "code",
   "execution_count": 42,
   "metadata": {},
   "outputs": [
    {
     "name": "stdout",
     "output_type": "stream",
     "text": [
      "La droite de regression\n",
      "Y =  [-1.22338024] X  +  [60.80017603]\n"
     ]
    }
   ],
   "source": [
    "npMatrix = np.matrix(df)\n",
    "X, Y = npMatrix[:,0], npMatrix[:,1] # X represente la matrice colonne de latitude / Y represente la matrice colonne de longitude\n",
    "mdl = LinearRegression().fit(X,Y) \n",
    "a = mdl.coef_[0] \n",
    "b = mdl.intercept_\n",
    "print(\"La droite de regression\")\n",
    "print(\"Y = \",a,\"X\",\" + \",b );"
   ]
  },
  {
   "cell_type": "code",
   "execution_count": 16,
   "metadata": {
    "scrolled": true
   },
   "outputs": [
    {
     "name": "stdout",
     "output_type": "stream",
     "text": [
      "[45.756972499999996, 45.7569611, 45.7562515, 45.7560693, 45.7528333, 45.7530316, 45.752683999999995, 45.753192, 45.7528333, 45.7529393, 45.7498284, 45.7635882, 45.774839899999996, 45.7743859, 45.7864611, 45.7857924, 45.783725, 45.7829129, 45.782812, 45.7695955, 45.7718351, 45.790937299999996, 45.790112099999995]\n",
      "[4.8344499, 4.834579499999999, 4.8336146, 4.8336654, 4.8328691, 4.8317989, 4.8330239, 4.8319668, 4.8328691, 4.8336622, 4.8248717999999995, 4.8026206, 4.7841689999999994, 4.7847786999999995, 4.7824659, 4.7694933, 4.770413899999999, 4.766565, 4.766814, 4.7699888, 4.7777848, 4.8128654, 4.8667777]\n"
     ]
    }
   ],
   "source": [
    "# Transformation des matrices X et Y en array list pour pourvoir ensuite les représentées par les méthodes scatter et plot\n",
    "\n",
    "x = [0]*23\n",
    "y = [0]*23\n",
    "for j in range(0,23):\n",
    "    a = numpy.array(X)[j]\n",
    "    for i in a:\n",
    "        x[j] = i\n",
    "for j in range(0,23):\n",
    "    a = numpy.array(Y)[j]\n",
    "    for i in a:\n",
    "        y[j] = i\n",
    "    \n",
    "print(x) \n",
    "print(y)"
   ]
  },
  {
   "cell_type": "code",
   "execution_count": 17,
   "metadata": {},
   "outputs": [
    {
     "data": {
      "image/png": "[encoded data removed]",
      "text/plain": [
       "<matplotlib.figure.Figure at 0x171cc022320>"
      ]
     },
     "metadata": {},
     "output_type": "display_data"
    }
   ],
   "source": [
    "plt.scatter(x,y, color='blue')\n",
    "plt.plot(x,mdl.predict(X),color='red')\n",
    "plt.title('Linear Regression', fontsize = 20)\n",
    "plt.xlabel('X', fontsize = 15)\n",
    "plt.ylabel('Y', fontsize = 15)\n",
    "plt.show()"
   ]
  },
  {
   "cell_type": "markdown",
   "metadata": {},
   "source": [
    "##### Regression polynomiale :"
   ]
  },
  {
   "cell_type": "markdown",
   "metadata": {},
   "source": [
    "La régression linéaire est une régression polynomiale de degré 1."
   ]
  },
  {
   "cell_type": "code",
   "execution_count": 79,
   "metadata": {
    "scrolled": true
   },
   "outputs": [
    {
     "data": {
      "image/png": "[encoded data removed]",
      "text/plain": [
       "<matplotlib.figure.Figure at 0x171cde5b048>"
      ]
     },
     "metadata": {},
     "output_type": "display_data"
    }
   ],
   "source": [
    "plt.scatter(x,y, color='blue')\n",
    "p2 = polyfit(x,y,2)\n",
    "plt.plot(x,polyval(p2,x),'r-')\n",
    "plt.title(\"Régression polynomiale d'ordre 2\", fontsize = 20)\n",
    "plt.xlabel('X', fontsize = 15)\n",
    "plt.ylabel('Y', fontsize = 15)\n",
    "plt.show()"
   ]
  },
  {
   "cell_type": "markdown",
   "metadata": {},
   "source": [
    "###### Résumé : "
   ]
  },
  {
   "cell_type": "code",
   "execution_count": 76,
   "metadata": {},
   "outputs": [
    {
     "name": "stdout",
     "output_type": "stream",
     "text": [
      "[-1.22338024 60.80017603]\n",
      "[ 1.27551884e+02 -1.16772461e+04  2.67264798e+05]\n",
      "[ 1.01260652e+04 -1.39030730e+06  6.36296597e+07 -9.70704654e+08]\n"
     ]
    }
   ],
   "source": [
    "R1 = polyfit(x,y,1)\n",
    "R2 = polyfit(x,y,2)\n",
    "R3 = polyfit(x,y,3)\n",
    "print(R1)\n",
    "print(R2)\n",
    "print(R3)"
   ]
  },
  {
   "cell_type": "code",
   "execution_count": 77,
   "metadata": {},
   "outputs": [
    {
     "data": {
      "text/plain": [
       "[<matplotlib.lines.Line2D at 0x171cde20b38>]"
      ]
     },
     "execution_count": 77,
     "metadata": {},
     "output_type": "execute_result"
    },
    {
     "data": {
      "image/png": "[encoded data removed]",
      "text/plain": [
       "<matplotlib.figure.Figure at 0x171cc734f28>"
      ]
     },
     "metadata": {},
     "output_type": "display_data"
    }
   ],
   "source": [
    "plt.plot(x,y,'o')\n",
    "plt.plot(x,polyval(R1,x),'r-')\n",
    "plt.plot(x,polyval(R2,x),'b--')\n",
    "plt.plot(x,polyval(R3,x),'m:')"
   ]
  },
  {
   "cell_type": "code",
   "execution_count": 109,
   "metadata": {},
   "outputs": [
    {
     "name": "stdout",
     "output_type": "stream",
     "text": [
      "\n",
      "Résultat retrouvé par le modèle de regression linéaire -Regression polynomiale ordre 1- \n",
      "\n",
      "[4.82199983857479, 4.822013785109569, 4.822881895730859, 4.82310479561135, 4.8270636540815985, 4.826821057779171, 4.827246304752059, 4.826624827587999, 4.8270636540815985, 4.8269339757757095, 4.830739789377404, 4.8139063218932066, 4.800141214399503, 4.800696629030369, 4.785924067905562, 4.7867421422748535, 4.789271358591726, 4.790264865688037, 4.7903883047546785, 4.806557109752198, 4.8038172273572854, 4.780447973256457, 4.78145750663397]\n",
      "\n",
      "Résultat observé \n",
      "\n",
      "[4.8344499, 4.834579499999999, 4.8336146, 4.8336654, 4.8328691, 4.8317989, 4.8330239, 4.8319668, 4.8328691, 4.8336622, 4.8248717999999995, 4.8026206, 4.7841689999999994, 4.7847786999999995, 4.7824659, 4.7694933, 4.770413899999999, 4.766565, 4.766814, 4.7699888, 4.7777848, 4.8128654, 4.8667777]\n"
     ]
    }
   ],
   "source": [
    "print(\"\\nRésultat retrouvé par le modèle de regression linéaire -Regression polynomiale ordre 1- \\n\")\n",
    "yfit1 = [0]*23\n",
    "for i in range(0,23):\n",
    "    yfit1[i] = R1[0]*x[i] + R1[1]\n",
    "    \n",
    "print(yfit1)\n",
    "\n",
    "\n",
    "print(\"\\nRésultat observé \\n\")\n",
    "print(y)"
   ]
  },
  {
   "cell_type": "code",
   "execution_count": 114,
   "metadata": {},
   "outputs": [
    {
     "name": "stdout",
     "output_type": "stream",
     "text": [
      "Modèle 1\n",
      "\n",
      "le coefficient de détermination =  34.17919224986261 %\n",
      "\n",
      "On peut dire que le modèle linéaire est loin d'etre un modèle qui correspond à la réalité \n"
     ]
    }
   ],
   "source": [
    "print(\"Modèle 1\\n\")\n",
    "# Calcul de l'erreur commise\n",
    "\n",
    "yresid1 = [0]*23\n",
    "for i in range (0,23):\n",
    "    yresid1[i] = y[i] - yfit1[i]\n",
    "\n",
    "# Calcul de l'ecart quadratique\n",
    "SSresid1 = 0 \n",
    "\n",
    "for i in range (0,23):\n",
    "    SSresid1 += yresid1[i]**2\n",
    "\n",
    "SStotal1 = len(y)*var(y)\n",
    "\n",
    "#Calcul du coefficient de détermination\n",
    "\n",
    "rsq1 = 1 - (SSresid1/SStotal1)\n",
    "print(\"le coefficient de détermination = \",rsq1*100,\"%\\n\")\n",
    "print(\"On peut dire que le modèle linéaire est loin d'etre un modèle qui correspond à la réalité \")"
   ]
  },
  {
   "cell_type": "markdown",
   "metadata": {},
   "source": [
    "##### Curve fitting"
   ]
  },
  {
   "cell_type": "markdown",
   "metadata": {},
   "source": [
    "Nous allons essayé maintenant d'appliquer une méthode de la lib python pour chercher la trajectoire existante la plus similaire/probable"
   ]
  },
  {
   "cell_type": "code",
   "execution_count": 117,
   "metadata": {},
   "outputs": [
    {
     "name": "stdout",
     "output_type": "stream",
     "text": [
      "10126.065203617634 ---------- coef ordre 3 \n",
      " -1390307.2985983652 ---------- coef ordre 2 \n",
      " 63629659.73663026 ---------- coef ordre 1 \n",
      " -970704654.2266803 ---------- coef ordre 0\n"
     ]
    },
    {
     "data": {
      "text/plain": [
       "[<matplotlib.lines.Line2D at 0x171cdfaec88>]"
      ]
     },
     "execution_count": 117,
     "metadata": {},
     "output_type": "execute_result"
    },
    {
     "data": {
      "image/png": "[encoded data removed]",
      "text/plain": [
       "<matplotlib.figure.Figure at 0x171cdfae550>"
      ]
     },
     "metadata": {},
     "output_type": "display_data"
    }
   ],
   "source": [
    "x_p = np.linspace(45.74,45.80,100)\n",
    "p3 = np.polyfit(x,y,3) # Regression de degre 3\n",
    "print(p3[0],\"---------- coef ordre 3 \\n\",p3[1],\"---------- coef ordre 2 \\n\",p3[2],\"---------- coef ordre 1 \\n\",p3[3],\"---------- coef ordre 0\")\n",
    "y_p = np.polyval(p3,x_p)\n",
    "plt.title('Polynomial fit', fontsize = 20)\n",
    "plt.xlabel('X', fontsize = 15)\n",
    "plt.ylabel('Y', fontsize = 15)\n",
    "plt.plot(x,y,'o')\n",
    "plt.plot(x_p,y_p,'-')"
   ]
  },
  {
   "cell_type": "code",
   "execution_count": 124,
   "metadata": {},
   "outputs": [
    {
     "name": "stdout",
     "output_type": "stream",
     "text": [
      "\n",
      "Résultat retrouvé par le modèle de regression linéaire -Regression polynomiale ordre 1- \n",
      "\n",
      "[4.831949710845947, 4.831968069076538, 4.8329455852508545, 4.833146572113037, 4.832824468612671, 4.833075523376465, 4.832613468170166, 4.833254337310791, 4.832824468612671, 4.832962512969971, 4.82471489906311, 4.811487197875977, 4.767613410949707, 4.76874041557312, 4.78967809677124, 4.784904956817627, 4.7733635902404785, 4.770074844360352, 4.769712686538696, 4.785457611083984, 4.776719093322754, 4.836396217346191, 4.825719356536865]\n",
      "\n",
      "Résultat observé \n",
      "\n",
      "[4.8344499, 4.834579499999999, 4.8336146, 4.8336654, 4.8328691, 4.8317989, 4.8330239, 4.8319668, 4.8328691, 4.8336622, 4.8248717999999995, 4.8026206, 4.7841689999999994, 4.7847786999999995, 4.7824659, 4.7694933, 4.770413899999999, 4.766565, 4.766814, 4.7699888, 4.7777848, 4.8128654, 4.8667777]\n"
     ]
    }
   ],
   "source": [
    "print(\"\\nRésultat retrouvé par le modèle de regression linéaire -Regression polynomiale ordre 1- \\n\")\n",
    "\n",
    "yfit = [0]*23\n",
    "xcube = [0]*23\n",
    "xcarre = [0]*23\n",
    "\n",
    "for k in range(0,23):\n",
    "    xcube[k] = x[k]*x[k]*x[k]\n",
    "\n",
    "for j in range(0,23):\n",
    "    xcarre[j] = x[j]*x[j]\n",
    "    \n",
    "for i in range(0,23):\n",
    "    yfit[i] = p3[0]*xcube[i] + p3[1]*xcarre[i] + p3[2]*x[i] + p3[3] \n",
    "    \n",
    "print(yfit)\n",
    "\n",
    "\n",
    "print(\"\\nRésultat observé \\n\")\n",
    "print(y)"
   ]
  },
  {
   "cell_type": "code",
   "execution_count": 126,
   "metadata": {},
   "outputs": [
    {
     "name": "stdout",
     "output_type": "stream",
     "text": [
      "Modèle polynomial\n",
      "\n",
      "le coefficient de détermination =  83.3392833340111 %\n",
      "\n",
      "Le modèle correspond bien à la réalité observée\n"
     ]
    }
   ],
   "source": [
    "print(\"Modèle polynomial\\n\")\n",
    "# Calcul de l'erreur commise\n",
    "\n",
    "yresid = [0]*23\n",
    "for i in range (0,23):\n",
    "    yresid[i] = y[i] - yfit[i]\n",
    "\n",
    "# Calcul de l'ecart quadratique\n",
    "SSresid = 0 \n",
    "\n",
    "for i in range (0,23):\n",
    "    SSresid += yresid[i]**2\n",
    "\n",
    "SStotal = len(y)*var(y)\n",
    "\n",
    "#Calcul du coefficient de détermination\n",
    "\n",
    "rsq = 1 - (SSresid/SStotal)\n",
    "print(\"le coefficient de détermination = \",rsq*100,\"%\\n\")\n",
    "print(\"Le modèle correspond bien à la réalité observée\")"
   ]
  },
  {
   "cell_type": "code",
   "execution_count": null,
   "metadata": {},
   "outputs": [],
   "source": []
  }
 ],
 "metadata": {
  "kernelspec": {
   "display_name": "Python 3",
   "language": "python",
   "name": "python3"
  },
  "language_info": {
   "codemirror_mode": {
    "name": "ipython",
    "version": 3
   },
   "file_extension": ".py",
   "mimetype": "text/x-python",
   "name": "python",
   "nbconvert_exporter": "python",
   "pygments_lexer": "ipython3",
   "version": "3.6.4"
  }
 },
 "nbformat": 4,
 "nbformat_minor": 2
}
