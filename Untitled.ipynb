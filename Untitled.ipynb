{
 "cells": [
  {
   "cell_type": "markdown",
   "metadata": {},
   "source": [
    "## Semaine 1 : Documentation et littérature"
   ]
  },
  {
   "cell_type": "code",
   "execution_count": null,
   "metadata": {},
   "outputs": [],
   "source": []
  },
  {
   "cell_type": "markdown",
   "metadata": {},
   "source": [
    "_Nous avons essayé à travers cette petite documentation de faire un résumé d'un modèle existant sur la prédiction de trajectoire dans le domaine aérien._ (Vous trouverez en dessous les liens vers les deux articles lisés)"
   ]
  },
  {
   "cell_type": "markdown",
   "metadata": {},
   "source": [
    "**1. Contexte**"
   ]
  },
  {
   "cell_type": "markdown",
   "metadata": {},
   "source": [
    "   La gestion du trafic aérien permet la gestion de la demande afin d’équilibrer la capacité à la demande. Ces déséquilibres de la capacité de la demande sont difficiles à prévoir dans la phase tactique (avant l'opération), comme l'information ATM existante n'est pas assez précis au cours de cette phase. Dans le but de surmonter ces inconvénients, le système ATM s'oriente vers une nouvelle trajectoire, basés sur les politiques paradigme, où la trajectoire devient la pierre angulaire sur laquelle l'ATM se basera. Cette transformation, cependant, a besoin d'information fiable disponible en pré-phase tactique pour atteindre un niveau de confiance sur l'information de planification."
   ]
  },
  {
   "cell_type": "markdown",
   "metadata": {},
   "source": [
    "_Data-driven Aircraft Trajectory Prediction Research_ vise à atteindre cet objectif par le biais de l'apprentissage automatique et les méthodes de modélisation à base d'agent dans deux différents cas d'utilisation : la prévision de la trajectoire et de la demande de capacité d’équilibrage."
   ]
  },
  {
   "cell_type": "markdown",
   "metadata": {},
   "source": [
    "**2. Méthodologie**"
   ]
  },
  {
   "cell_type": "markdown",
   "metadata": {},
   "source": [
    "DART a utilisé pour attaquer son problème un enchainement de méthode du traitement de données et d’apprentissage automatique. Elle a choisi trois principales approche considérées comme les plus appropriées."
   ]
  },
  {
   "cell_type": "markdown",
   "metadata": {},
   "source": [
    "* **Modèles de Markov cachés (HMM) :**\n",
    "L'un des plus populaires et bien connus des approches pour étudier les transitions d'état d'un système. Le HMM est un modèle qui approche l'évolution d'un système par un ensemble d'états et les transitions entre eux, chacun accompagné d'une probabilité qui est généralement extraite par l'analyse des données historiques.\n",
    "La trajectoire d'un objet en mouvement peut être décomposée en une série de courts segments de trajectoire, ces segments sont supposés être générés depuis des différents segments latents, avec une perturbation de bruit. Les segments latents, leur modèle de bruit associé, et le modèle stochastique de transition entre états sont tirées des données.\n",
    "Chaque segment court subit une rotation pour que la direction initiale soit alignée avec l'axe des x. En outre, les segments de trajectoire sont mis à l'échelle de sorte qu'ils ont une vitesse initiale de l'unité.\n",
    "Chaque segment latent a un modèle de bruit qui capture les moyennes et les variances de la trajectoire à l'échelle de la vitesse initiale et centrée à l'origine.\n",
    "L'apprentissage du modèle de Markov implique l’apprentissage des probabilités de transition entre les états latents.\n",
    "Dans le modèle étudié, les paramètres qui ont des effets significatifs sur la performance du modèle sont la taille du segment, qui se répercutera sur l'exactitude prédictive et la vitesse d'exécution du modèle, ainsi que le nombre des états latents qui ralentira le modèle si jamais n’il est très grand.\n",
    "Dans le cadre du projet, l'itinéraire de vol et toutes les informations sont codées en valeurs discrètes qui constituent le HMM. Puis, la trajectoire elle-même est traitée comme une évolution des transitions entre ces états, en utilisant les données de trajectoire brute de nombreux vols pour la formation, plus les contraintes spatio-temporelles.\n",
    "* **Prédiction de la trajectoire du noyau appropriés via des métriques à distance pour la mise en cluster :**\n",
    "C’est un modèle qui permet la structuration de données sous forme de collection d’objet afin de simplifier le traitement des données selon leur similarité. La qualité d’un cluster dépend donc de la mesure de similarité utilisée par la méthode. Pour notre cas la similarité est exprimée par le biais d’une mesure de distance.\n",
    "De cette approche de prédiction de trajectoire, la trajectoire de vol fait l’usage d’un vecteur caractéristique et teste sa ressemblance avec d’autre pistes. Le vecteur d'entrée peut inclure plusieurs autres propriétés associées à un segment de trajectoire mais pas nécessairement dérivée des données spatiotemporelles de la trajectoire. Par exemple, chaque segment de trajectoire pourrait être enrichi de variables météorologiques, le type de l'aéronef, ainsi que toute autre information sémantique qui est pertinente.\n",
    "\n",
    "* **Recherche avancée ML modèles de régression non linéaire :**\n",
    "La régression non linéaire est une méthode permettant de déterminer un modèle non linéaire de relation entre la variable dépendante et un groupe de variables indépendantes. Elle peut élaborer des modèles avec des relations arbitraires entre variables dépendantes et indépendantes. Elle emploie pour cela des algorithmes itératifs d'estimation.\n",
    "Pour le cas de ce projet, Il a été limité sur des types de régression linéaire localisées, telles que la régression linéaire pondérée localement (LWLR) et pondérée localement la régression polynomiale (LWPR) puisque l'échelle devient de plus en plus local, la marge d'effets stochastiques devient plus petit et la régression devient plus précis.\n",
    "Mais il existe de nombreux algorithmes robustes ML (Machine learning) qui sont beaucoup plus efficaces que la régression linéaire standard ou variantes. Il s'agit notamment des approches basées sur un noyau comme Support Vector Machines (SVM) pour la régression de l'arbre de décision, les méthodes comme les arbres de classification et de régression (CART), ainsi que des méthodes de classification de marge de fonction comme les réseaux de neurones qui peut également être utilisé pour la régression de la trajectoire à différents niveaux et échelles.\n"
   ]
  },
  {
   "cell_type": "markdown",
   "metadata": {},
   "source": [
    "** 3. Fonctionnement **"
   ]
  },
  {
   "cell_type": "markdown",
   "metadata": {},
   "source": [
    "Dans ce contexte général, le groupe d'adresses DART TP en combinant des éléments de ces trois approches fondamentales, afin de produire des solutions novatrices.\n"
   ]
  },
  {
   "cell_type": "markdown",
   "metadata": {},
   "source": [
    "HMM, clustering et régression, (les trois approches) sont développées en parallèle et l'objectif principal du travail est actuellement alloué à la conception d'un algorithme hybride en cluster / HMM à deux phases. Plus spécifiquement, le regroupement est appliqué comme première phase de traitement des trajectoires d'aéronef, en utilisant un ensemble riche de trajectoires « annotées » incluant des plans de vol, des conditions météorologiques localisées et des propriétés aéronautiques qui permettent de modéliser dans un espace supérieur au domaine des trajectoires temporelles. La classification est appliquée en utilisant des fonctions de distance correctement conçues qui implémentent des métriques de similarité pour le domaine enrichi à N dimensions, fournissant ainsi une correspondance plus efficace entre les trajectoires \"similaires\", non seulement en termes de trajectoire spatio-temporelle mais aussi de propriétés de calendrier (par exemple, en semaine), etc. Cette première phase crée essentiellement des groupes compacts de trajectoires d'aéronef, séparant typiquement les paires d'aéroports (départ / destination), mais aussi des différences dans les modèles de décollage et d'atterrissage et des écarts de temps importants même pour la même route de vol. Ensuite, chaque groupe est représenté par une voie médiane, ce qui réduit la complexité de la tâche d'au moins deux ordres de grandeur pour la phase suivante."
   ]
  },
  {
   "cell_type": "markdown",
   "metadata": {},
   "source": [
    "Ensuite, un modèle de Markov caché (HMM) est défini et entraîné pour chaque cluster, en utilisant une grille spatiale non-uniforme basée sur un graphique et en exploitant les plans de vol comme contraintes pour un modèle paramétrique de la probabilité d'émission HMM. Plus précisément, les états HMM ne sont pas définis dans une grille uniforme de dimensions typiquement 3 + k, où k est le nombre de paramètres d'enrichissement supplémentaires (par exemple les conditions météorologiques locales)."
   ]
  },
  {
   "cell_type": "markdown",
   "metadata": {},
   "source": [
    "Au lieu de cela, les points de cheminement des plans de vol déposés de chaque vol spécifique sont utilisés comme points de référence pour les états HMM. Chacun de ces points peut être apparié au point le plus proche de la médiane du groupe auquel chaque vol est assigné pendant la première phase (en utilisant la métrique de similarité correctement définie). Ainsi, chaque plan de vol individuel est apparié waypoint-to-waypoint à sa médiane assigné et l'écart réel 3-D (distance de Haversine) entre chaque paire est formulé de manière probabiliste comme les émissions HMM. En pratique, au lieu d'utiliser la médiane à pleine résolution comme référence, les points de cheminement des plans de vol sont utilisés pour établir les états et les émissions pour chaque HMM, un pour chaque médiane. En conséquence, la complexité de la tâche TP est encore réduite d'au moins un ordre de grandeur supplémentaire. "
   ]
  },
  {
   "cell_type": "markdown",
   "metadata": {},
   "source": [
    " Cette méthode proposée a été appliquée dans des pistes opérationnelles radar réelles et dans les données météorologiques de la NOAA pour un jeu de données d'un mois sur les vols dans l'espace aérien espagnol."
   ]
  },
  {
   "cell_type": "markdown",
   "metadata": {},
   "source": [
    "**4. Travail à faire de la prochaine séance**"
   ]
  },
  {
   "cell_type": "markdown",
   "metadata": {},
   "source": [
    "Pour la prochaine séance nous devons :\n",
    "* Faire un premier notebook simple de prédiction\n",
    "* Faire une prédiction par l'application de la curve fitting\n",
    "* Chercher la trajectoire existante la plus similaire/probable\n"
   ]
  },
  {
   "cell_type": "code",
   "execution_count": null,
   "metadata": {},
   "outputs": [],
   "source": []
  }
 ],
 "metadata": {
  "kernelspec": {
   "display_name": "Python 3",
   "language": "python",
   "name": "python3"
  },
  "language_info": {
   "codemirror_mode": {
    "name": "ipython",
    "version": 3
   },
   "file_extension": ".py",
   "mimetype": "text/x-python",
   "name": "python",
   "nbconvert_exporter": "python",
   "pygments_lexer": "ipython3",
   "version": "3.6.4"
  }
 },
 "nbformat": 4,
 "nbformat_minor": 2
}
