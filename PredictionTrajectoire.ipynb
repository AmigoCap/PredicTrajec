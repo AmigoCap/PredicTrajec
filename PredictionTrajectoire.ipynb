{
 "cells": [
  {
   "cell_type": "markdown",
   "metadata": {},
   "source": [
    "## Prédiction de Trajectoires Spatio-Temporelles"
   ]
  },
  {
   "cell_type": "markdown",
   "metadata": {},
   "source": [
    "##### Contexte :"
   ]
  },
  {
   "cell_type": "markdown",
   "metadata": {},
   "source": [
    "Les trajectoires permettent de suivre des objets et individus en mouvement via une série d’enregistrements successives de position dans l’espace (x,y,t).\n"
   ]
  },
  {
   "cell_type": "markdown",
   "metadata": {},
   "source": [
    "Le but de ce projet est de comparer des techniques existantes de prédictions de trajectoires, à partir d’un jeu de données de trajectoires existantes. En particulier avec un cas d’études de données GPS issu de milliers personnes qui se déplacent tous les jours dans l’agglomération lyonnaise. Nous souhaitons également visualiser le résultat de ces prédictions sous forme de cartes qui étant données une position et une trajectoire partielle"
   ]
  },
  {
   "cell_type": "markdown",
   "metadata": {},
   "source": [
    "Une première étape consistera à comprendre les jeux de données de trajectoires que nous fournirons et valider leur qualité.. Une deuxième étape sera le choix des méthodes d’apprentissages qui seront à identifier et à comparer (ex: arbres de décision, algorithmes de classification, mais aussi de deep learning comme CNN).\n"
   ]
  },
  {
   "cell_type": "markdown",
   "metadata": {},
   "source": [
    "##### Plan :"
   ]
  },
  {
   "cell_type": "markdown",
   "metadata": {},
   "source": [
    "1. Introduction au Machine learning\n",
    "2. Les premiers modèles simples d'apprentissage\n",
    "3. Application sur des données spatiales et non spatiales\n",
    "4. Premier pas vers des algorithmes du machine learning\n"
   ]
  },
  {
   "cell_type": "markdown",
   "metadata": {},
   "source": [
    "##### 1. Introduction"
   ]
  },
  {
   "cell_type": "markdown",
   "metadata": {},
   "source": [
    "   En cette ère de technologie moderne, nous avons une ressource en abondance : une grande quantité de données structurées et non structurées. "
   ]
  },
  {
   "cell_type": "markdown",
   "metadata": {},
   "source": [
    "Dans la seconde moitié du vingtième siècle, l'apprentissage automatique a évolué comme un sous-domaine de l'intelligence artificielle qui impliquait le développement d'algorithmes d'auto-apprentissage pour acquérir des connaissances à partir de ces données afin de faire des prédictions. Plutôt que de demander aux humains de dériver manuellement des règles et de construire des modèles à partir de l'analyse de grandes quantités de données, l'apprentissage automatique offre une alternative plus efficace pour capturer les connaissances dans les données et améliorer les performances des modèles prédictifs. Non seulement l'apprentissage automatique prend de plus en plus d'importance dans la recherche en informatique, mais il joue également un rôle de plus en plus important dans notre vie quotidienne."
   ]
  },
  {
   "cell_type": "markdown",
   "metadata": {},
   "source": [
    "   \n",
    "   Grâce à l'apprentissage automatique, nous bénéficions de solides filtres anti-spam, d'un logiciel pratique de reconnaissance vocale et de textes, de moteurs de recherche Web fiables, de joueurs d'échecs exigeants et, espérons-le, de voitures autonomes sûres et efficaces."
   ]
  },
  {
   "cell_type": "markdown",
   "metadata": {},
   "source": [
    "##### 2. Les premiers modèles simples d'apprentissage"
   ]
  },
  {
   "cell_type": "markdown",
   "metadata": {},
   "source": [
    "Il existe trois types d'apprentissage automatique : l'apprentissage supervisé, l'apprentissage non supervisé et l'apprentissage par renforcement."
   ]
  },
  {
   "cell_type": "markdown",
   "metadata": {},
   "source": [
    "Nous allons s'interessé sur cette partie à l'apprentissage supervisé, et comment nous pourrons faire des prédictions sur l'avenir avec l'apprentissage supervisé"
   ]
  },
  {
   "cell_type": "markdown",
   "metadata": {},
   "source": [
    "L'objectif principal de l'apprentissage supervisé est d'apprendre un modèle à partir de données expérimentaux entrées qui nous permet de faire des prédictions sur des données futures. Ici, le terme supervisé se réfère à un ensemble d'échantillons où les données de sortie souhaités sont déjà connus."
   ]
  },
  {
   "cell_type": "markdown",
   "metadata": {},
   "source": [
    "* Régression pour prédire les résultats continus"
   ]
  },
  {
   "cell_type": "markdown",
   "metadata": {},
   "source": [
    "La prédiction des résultats continus, également appelée analyse de régression est un type de l'apprentissage supervisé. Dans l'analyse de régression, on nous donne un certain nombre de variables prédictives (explicatives) et une variable de réponse continue (résultat), et nous essayons de trouver une relation entre ces variables qui nous permet de prédire un résultat."
   ]
  },
  {
   "cell_type": "markdown",
   "metadata": {},
   "source": [
    "* Regression linéaire univarié : "
   ]
  },
  {
   "cell_type": "markdown",
   "metadata": {},
   "source": [
    "Régression linéaire univariée est un algorithme d’apprentissage supervisé très basique qui vise à trouver la meilleure droite possible à l’aide d’une seule variable explicative (on parle aussi d’un seul degré de liberté). Du fait de cette unique variable explicative, on parle de modèle univarié, par opposition aux modèles multivariés, qui font appel à plusieurs variables"
   ]
  },
  {
   "cell_type": "markdown",
   "metadata": {},
   "source": [
    "On cherche alors à trouver la meilleure fonction hypothèse, qu’on nommera h et qui aura pour rôle d’approximer les valeurs de sortie Y.\n",
    "Dans le cas de la régression linéaire à une variable, la fonction hypothèse h sera de la forme: h(x) = a x + b"
   ]
  },
  {
   "cell_type": "markdown",
   "metadata": {},
   "source": [
    "Notre problème revient donc à trouver le meilleur couple (a,b) tel que h(x) soit «proche» de Y pour les couples (x, y) de notre base de données."
   ]
  },
  {
   "cell_type": "markdown",
   "metadata": {},
   "source": [
    "#### !!! Concernant les données que nous utiliserons dans le cadre de ce projet sont disponible sur [Analyse de trajectoires](https://github.com/AmigoCap/GPSFlow/blob/master/3-Segmentation.ipynb)"
   ]
  },
  {
   "cell_type": "code",
   "execution_count": 14,
   "metadata": {},
   "outputs": [
    {
     "name": "stdout",
     "output_type": "stream",
     "text": [
      "Populating the interactive namespace from numpy and matplotlib\n"
     ]
    }
   ],
   "source": [
    "import numpy as np\n",
    "import pandas as pd\n",
    "from sklearn.linear_model import LinearRegression\n",
    "%pylab inline\n",
    "import matplotlib.pyplot as plt\n",
    "%matplotlib inline"
   ]
  },
  {
   "cell_type": "code",
   "execution_count": 17,
   "metadata": {},
   "outputs": [],
   "source": [
    "raw = pd.io.json.read_json(\"data/iphone.json\") # Collecte des données à partir du fichier iphone.json\n",
    "df = raw['locations'].apply(pd.Series) \n",
    "\n",
    "# Filtrer les données : latitude and longitude columns\n",
    "df['latitude'] = df['latitudeE7'] * 0.0000001\n",
    "df['longitude'] = df['longitudeE7'] * 0.0000001\n",
    "\n",
    "columns = [\"latitude\", \"longitude\"]\n",
    "for col in list(df) :\n",
    "\tif col not in columns :\n",
    "\t\tdel df[col]"
   ]
  },
  {
   "cell_type": "code",
   "execution_count": 18,
   "metadata": {},
   "outputs": [
    {
     "data": {
      "text/html": [
       "<div>\n",
       "<style scoped>\n",
       "    .dataframe tbody tr th:only-of-type {\n",
       "        vertical-align: middle;\n",
       "    }\n",
       "\n",
       "    .dataframe tbody tr th {\n",
       "        vertical-align: top;\n",
       "    }\n",
       "\n",
       "    .dataframe thead th {\n",
       "        text-align: right;\n",
       "    }\n",
       "</style>\n",
       "<table border=\"1\" class=\"dataframe\">\n",
       "  <thead>\n",
       "    <tr style=\"text-align: right;\">\n",
       "      <th></th>\n",
       "      <th>latitude</th>\n",
       "      <th>longitude</th>\n",
       "    </tr>\n",
       "  </thead>\n",
       "  <tbody>\n",
       "    <tr>\n",
       "      <th>0</th>\n",
       "      <td>45.756972</td>\n",
       "      <td>4.834450</td>\n",
       "    </tr>\n",
       "    <tr>\n",
       "      <th>1</th>\n",
       "      <td>45.756961</td>\n",
       "      <td>4.834579</td>\n",
       "    </tr>\n",
       "    <tr>\n",
       "      <th>2</th>\n",
       "      <td>45.756251</td>\n",
       "      <td>4.833615</td>\n",
       "    </tr>\n",
       "    <tr>\n",
       "      <th>3</th>\n",
       "      <td>45.756069</td>\n",
       "      <td>4.833665</td>\n",
       "    </tr>\n",
       "    <tr>\n",
       "      <th>4</th>\n",
       "      <td>45.752833</td>\n",
       "      <td>4.832869</td>\n",
       "    </tr>\n",
       "  </tbody>\n",
       "</table>\n",
       "</div>"
      ],
      "text/plain": [
       "    latitude  longitude\n",
       "0  45.756972   4.834450\n",
       "1  45.756961   4.834579\n",
       "2  45.756251   4.833615\n",
       "3  45.756069   4.833665\n",
       "4  45.752833   4.832869"
      ]
     },
     "execution_count": 18,
     "metadata": {},
     "output_type": "execute_result"
    }
   ],
   "source": [
    "df.head() # Table des données"
   ]
  },
  {
   "cell_type": "code",
   "execution_count": 8,
   "metadata": {},
   "outputs": [
    {
     "name": "stdout",
     "output_type": "stream",
     "text": [
      "La droite de regression\n",
      "Y =  [-1.22338024] X  +  [60.80017603]\n"
     ]
    }
   ],
   "source": [
    "npMatrix = np.matrix(df)\n",
    "X, Y = npMatrix[:,0], npMatrix[:,1] # X represente la matrice colonne de latitude / Y represente la matrice colonne de longitude\n",
    "mdl = LinearRegression().fit(X,Y) \n",
    "a = mdl.coef_[0] \n",
    "b = mdl.intercept_\n",
    "print(\"La droite de regression\")\n",
    "print(\"Y = \",a,\"X\",\" + \",b );"
   ]
  },
  {
   "cell_type": "markdown",
   "metadata": {},
   "source": [
    "#### !!! Pour le calcul détailler de la manière de détermination des coefficient a et b ==> [Regression linéaire](https://fr.wikipedia.org/wiki/R%C3%A9gression_lin%C3%A9aire)"
   ]
  },
  {
   "cell_type": "markdown",
   "metadata": {},
   "source": [
    "Pour évaluer la qualité de la prédiction, on peut utiliser différents critères.\n",
    "\n",
    "Dans un premier temps rappelons que : \n",
    "* SSR  est la variation expliquée par la régression. \n",
    "* SSE ou SCR est la variation expliquée par les résidus. \n",
    "* SST = SCT = SSE + SSR est la variation totale. \n",
    "\n",
    "Nous pouvons alors définir le coefficient de détermination (<math>R^2</math>) comme le ratio entre la somme des carrés des écarts à la moyenne des valeurs prédites et la somme des carrés des écarts à la moyenne des valeurs expliquées :\n",
    "\n",
    "* <math>R^2</math> = SSR / SST = (SCT - SSE)/SCT\n",
    "\n",
    "Le coefficient de détermination varie entre 0 et 1. Lorsqu'il est proche de 0, le pouvoir prédictif du modèle est faible et lorsqu'il est proche de 1, le pouvoir prédictif du modèle est fort."
   ]
  },
  {
   "cell_type": "code",
   "execution_count": 5,
   "metadata": {},
   "outputs": [],
   "source": [
    "# Transformation des matrices X et Y en array list pour pourvoir ensuite les représentées par les méthodes scatter et plot\n",
    "\n",
    "x = [0]*23\n",
    "y = [0]*23\n",
    "for j in range(0,23):\n",
    "    a = numpy.array(X)[j]\n",
    "    for i in a:\n",
    "        x[j] = i\n",
    "for j in range(0,23):\n",
    "    a = numpy.array(Y)[j]\n",
    "    for i in a:\n",
    "        y[j] = i\n",
    "    "
   ]
  },
  {
   "cell_type": "code",
   "execution_count": 20,
   "metadata": {},
   "outputs": [
    {
     "data": {
      "image/png": "[encoded data removed]",
      "text/plain": [
       "<matplotlib.figure.Figure at 0x1655a4ba7f0>"
      ]
     },
     "metadata": {},
     "output_type": "display_data"
    }
   ],
   "source": [
    "R1 = np.polyfit(x,y,1)\n",
    "plt.plot(x,y,'ro')\n",
    "xp = np.linspace(45.74,45.80,100)\n",
    "plt.plot(xp,np.polyval(R1,xp),'b-')\n",
    "plt.title('Regression linéaire', fontsize = 20)\n",
    "plt.xlabel('X', fontsize = 15)\n",
    "plt.ylabel('Y', fontsize = 15)\n",
    "plt.show()"
   ]
  },
  {
   "cell_type": "code",
   "execution_count": 21,
   "metadata": {},
   "outputs": [
    {
     "name": "stdout",
     "output_type": "stream",
     "text": [
      "\n",
      "Résultat retrouvé par le modèle de regression linéaire -Regression polynomiale ordre 1- \n",
      "\n",
      "[4.82199983857479, 4.822013785109569, 4.822881895730859, 4.82310479561135, 4.8270636540815985, 4.826821057779171, 4.827246304752059, 4.826624827587999, 4.8270636540815985, 4.8269339757757095, 4.830739789377404, 4.8139063218932066, 4.800141214399503, 4.800696629030369, 4.785924067905562, 4.7867421422748535, 4.789271358591726, 4.790264865688037, 4.7903883047546785, 4.806557109752198, 4.8038172273572854, 4.780447973256457, 4.78145750663397]\n",
      "\n",
      "Résultat observé \n",
      "\n",
      "[4.8344499, 4.834579499999999, 4.8336146, 4.8336654, 4.8328691, 4.8317989, 4.8330239, 4.8319668, 4.8328691, 4.8336622, 4.8248717999999995, 4.8026206, 4.7841689999999994, 4.7847786999999995, 4.7824659, 4.7694933, 4.770413899999999, 4.766565, 4.766814, 4.7699888, 4.7777848, 4.8128654, 4.8667777]\n"
     ]
    }
   ],
   "source": [
    "print(\"\\nRésultat retrouvé par le modèle de regression linéaire -Regression polynomiale ordre 1- \\n\")\n",
    "yfit1 = [0]*23\n",
    "for i in range(0,23):\n",
    "    yfit1[i] = R1[0]*x[i] + R1[1]\n",
    "    \n",
    "print(yfit1)\n",
    "\n",
    "print(\"\\nRésultat observé \\n\")\n",
    "print(y)"
   ]
  },
  {
   "cell_type": "code",
   "execution_count": 22,
   "metadata": {},
   "outputs": [
    {
     "name": "stdout",
     "output_type": "stream",
     "text": [
      "Modèle 1\n",
      "\n",
      "le coefficient de détermination =  34.17919224986261 %\n",
      "\n",
      "On peut dire que le modèle linéaire est loin d'etre un modèle qui correspond à la réalité \n"
     ]
    }
   ],
   "source": [
    "print(\"Modèle 1 : Regression linéaire \\n\")\n",
    "# Calcul de l'erreur commise\n",
    "\n",
    "yresid1 = [0]*23\n",
    "for i in range (0,23):\n",
    "    yresid1[i] = y[i] - yfit1[i]\n",
    "\n",
    "# Calcul de l'ecart quadratique\n",
    "SSresid1 = 0 \n",
    "\n",
    "for i in range (0,23):\n",
    "    SSresid1 += yresid1[i]**2\n",
    "\n",
    "SStotal1 = len(y)*var(y)\n",
    "\n",
    "#Calcul du coefficient de détermination\n",
    "\n",
    "rsq1 = 1 - (SSresid1/SStotal1)\n",
    "print(\"le coefficient de détermination = \",rsq1*100,\"%\\n\")\n",
    "print(\"On peut dire que le modèle linéaire est loin d'etre un modèle qui correspond à la réalité \")"
   ]
  },
  {
   "cell_type": "markdown",
   "metadata": {},
   "source": [
    "##### * Regression polynomiale :"
   ]
  },
  {
   "cell_type": "markdown",
   "metadata": {},
   "source": [
    "La régression polynomiale est une extension de la régression linéaire multivariée. Elle permet de lier les variables par un polynôme de degré k. Les polynômes ont une particularité car ils permetent d’introduire de la non-linéarité dans les relations entre variables."
   ]
  },
  {
   "cell_type": "markdown",
   "metadata": {},
   "source": [
    "Intuitivement, chaque nouvel ordre va permettre d’ajouter un «pli» à la courbe.Selon la notation déjà employée, pour calculer h(x), on évalue chaque variable en l’associant à tous les degrés polynomiaux de 1 à k. Chacun de ces polynômes a son propre coefficient. Par exemple, un modèle polynomial de degré 2 à une variable explicative s’écrira: h(x) = a x² + b x + c"
   ]
  },
  {
   "cell_type": "markdown",
   "metadata": {},
   "source": [
    "En pratique, les calculs sont les mêmes que dans le cas de la régression linéaire traditionnelle (la régression linéaire n’est en fait qu’une régression polynomiale de degré 1). L’introduction de termes polynomiaux dans un modèle de régression permet donc de modéliser simplement des relations potentiellement très complexes. [regression polynomiale](https://fr.wikipedia.org/wiki/R%C3%A9gression_polynomiale)"
   ]
  },
  {
   "cell_type": "code",
   "execution_count": 23,
   "metadata": {},
   "outputs": [
    {
     "data": {
      "image/png": "[encoded data removed]",
      "text/plain": [
       "<matplotlib.figure.Figure at 0x1655a5740b8>"
      ]
     },
     "metadata": {},
     "output_type": "display_data"
    }
   ],
   "source": [
    "R2 = np.polyfit(x,y,2)\n",
    "plt.plot(x,y,'ro')\n",
    "plt.plot(xp,np.polyval(R2,xp),'r--')\n",
    "plt.title(\"Regression polynomiale d'ordre 2\", fontsize = 20)\n",
    "plt.xlabel('X', fontsize = 15)\n",
    "plt.ylabel('Y', fontsize = 15)\n",
    "plt.show()"
   ]
  },
  {
   "cell_type": "code",
   "execution_count": 27,
   "metadata": {},
   "outputs": [
    {
     "name": "stdout",
     "output_type": "stream",
     "text": [
      "\n",
      "Résultat retrouvé par le modèle de regression polynomiale ordre 2- \n",
      "\n",
      "[4.815947800758295, 4.8159987754770555, 4.819236988492776, 4.820089171640575, 4.836635431740433, 4.835544653353281, 4.837463297997601, 4.834669688309077, 4.836635431740433, 4.836051115242299, 4.854392051522154, 4.79195814562263, 4.776800419844221, 4.776786746748257, 4.795049558277242, 4.79306529549649, 4.787652120867278, 4.785824032383971, 4.785608650359791, 4.779846930643544, 4.777687563677318, 4.8112694510491565, 4.807894979428966]\n",
      "\n",
      "Résultat observé \n",
      "\n",
      "[4.8344499, 4.834579499999999, 4.8336146, 4.8336654, 4.8328691, 4.8317989, 4.8330239, 4.8319668, 4.8328691, 4.8336622, 4.8248717999999995, 4.8026206, 4.7841689999999994, 4.7847786999999995, 4.7824659, 4.7694933, 4.770413899999999, 4.766565, 4.766814, 4.7699888, 4.7777848, 4.8128654, 4.8667777]\n"
     ]
    }
   ],
   "source": [
    "print(\"\\nRésultat retrouvé par le modèle de regression polynomiale ordre 2- \\n\")\n",
    "yfit2 = [0]*23\n",
    "for i in range(0,23):\n",
    "    yfit2[i] = R2[0]*x[i]*x[i] + R2[1]*x[i] + R2[2]\n",
    "    \n",
    "print(yfit2)\n",
    "\n",
    "print(\"\\nRésultat observé \\n\")\n",
    "print(y)"
   ]
  },
  {
   "cell_type": "code",
   "execution_count": 26,
   "metadata": {},
   "outputs": [
    {
     "name": "stdout",
     "output_type": "stream",
     "text": [
      "Modèle 2 : regression polynomiale d'ordre 2\n",
      "\n",
      "le coefficient de détermination =  63.24525413920718 %\n",
      "\n",
      "Le modèle suivant a un coefficient de dertemination deux fois plus grand que le premier, c'est à dire que plus on augmente le degrès plus on s'approche à un modèle adapté\n"
     ]
    }
   ],
   "source": [
    "print(\"Modèle 2 : regression polynomiale d'ordre 2\\n\")\n",
    "# Calcul de l'erreur commise\n",
    "\n",
    "yresid2 = [0]*23\n",
    "for i in range (0,23):\n",
    "    yresid2[i] = y[i] - yfit2[i]\n",
    "\n",
    "# Calcul de l'ecart quadratique\n",
    "SSresid2 = 0 \n",
    "\n",
    "for i in range (0,23):\n",
    "    SSresid2 += yresid2[i]**2\n",
    "\n",
    "SStotal2 = len(y)*var(y)\n",
    "\n",
    "#Calcul du coefficient de détermination\n",
    "\n",
    "rsq2 = 1 - (SSresid2/SStotal2)\n",
    "print(\"le coefficient de détermination = \",rsq2*100,\"%\\n\")\n",
    "print(\"Le modèle suivant a un coefficient de dertemination deux fois plus grand que le premier, c'est à dire que plus on augmente le degrès plus on s'approche à un modèle adapté\")"
   ]
  },
  {
   "cell_type": "markdown",
   "metadata": {},
   "source": [
    "### Resumé sur les modèles de régression"
   ]
  },
  {
   "cell_type": "code",
   "execution_count": 40,
   "metadata": {},
   "outputs": [
    {
     "name": "stdout",
     "output_type": "stream",
     "text": [
      "[ 1.01260652e+04 -1.39030730e+06  6.36296597e+07 -9.70704654e+08]\n"
     ]
    },
    {
     "data": {
      "text/plain": [
       "[<matplotlib.lines.Line2D at 0x16559ef3b38>]"
      ]
     },
     "execution_count": 40,
     "metadata": {},
     "output_type": "execute_result"
    },
    {
     "data": {
      "image/png": "[encoded data removed]",
      "text/plain": [
       "<matplotlib.figure.Figure at 0x1655a5bd390>"
      ]
     },
     "metadata": {},
     "output_type": "display_data"
    }
   ],
   "source": [
    "P1 = np.polyfit(x,y,1)\n",
    "P2 = np.polyfit(x,y,2)\n",
    "P3 = np.polyfit(x,y,3)\n",
    "\n",
    "plt.plot(x,y,'ro')\n",
    "xp = np.linspace(45.74,45.80,100)\n",
    "\n",
    "plt.plot(xp,np.polyval(P1,xp),'b-')\n",
    "plt.plot(xp,np.polyval(P2,xp),'r--')\n",
    "plt.plot(xp,np.polyval(P3,xp),'g:')\n"
   ]
  },
  {
   "cell_type": "markdown",
   "metadata": {},
   "source": [
    "###### !!! Plus le degrès de regression est grand plus la regression est meilleur"
   ]
  },
  {
   "cell_type": "markdown",
   "metadata": {},
   "source": [
    "#### * Curve Fitting"
   ]
  },
  {
   "cell_type": "markdown",
   "metadata": {},
   "source": [
    "Curve fitting ou l'ajustement de courbe, également appelée lissage, est une procédure statistique dont le but est de définir une courbe ou une surface relativement lisse qui décrit le comportement de la variable de réponse généralement sans référence à un modèle significatif. L'application la plus fréquente de l'ajustement de la courbe est pour les données de séries chronologiques, mais il y a beaucoup d'autres applications. Les méthodes d'ajustement des courbes sont également utilisées pour ajuster les réponses impliquant plusieurs facteurs."
   ]
  },
  {
   "cell_type": "code",
   "execution_count": 58,
   "metadata": {
    "scrolled": true
   },
   "outputs": [
    {
     "name": "stdout",
     "output_type": "stream",
     "text": [
      "[ 1.28673614e+02 -1.17799286e+04  2.69614670e+05]\n"
     ]
    },
    {
     "data": {
      "text/plain": [
       "[<matplotlib.lines.Line2D at 0x1655acd9a90>]"
      ]
     },
     "execution_count": 58,
     "metadata": {},
     "output_type": "execute_result"
    },
    {
     "data": {
      "image/png": "[encoded data removed]",
      "text/plain": [
       "<matplotlib.figure.Figure at 0x1655bdb0240>"
      ]
     },
     "metadata": {},
     "output_type": "display_data"
    }
   ],
   "source": [
    "from scipy.optimize import curve_fit\n",
    "\n",
    "def fit_func(x, a, b, c):   # Le choix de la forme de la fonction d'ajustement\n",
    "    return a*(x**2) + b*(x) + c\n",
    "\n",
    "params = curve_fit(fit_func, x, y)\n",
    "\n",
    "[a, b, c] = params[0]\n",
    "print(params[0])\n",
    "\n",
    "plt.plot(x,y,'ro')\n",
    "xp = np.linspace(45.74,45.80,100)\n",
    "\n",
    "plt.plot(xp,np.polyval(params[0],xp),'b-')"
   ]
  },
  {
   "cell_type": "markdown",
   "metadata": {},
   "source": [
    "On remarque que le résultat obtenu est pareil à celui de la régression d'ordre 2, car la forme de la fonction que nous avons choisi à une forme polynomiale d'ordre 2."
   ]
  },
  {
   "cell_type": "markdown",
   "metadata": {},
   "source": [
    "##### 3. Application sur des données spatiales et non spatiales"
   ]
  },
  {
   "cell_type": "markdown",
   "metadata": {},
   "source": [
    "* régression multiple linéeaire "
   ]
  },
  {
   "cell_type": "markdown",
   "metadata": {},
   "source": [
    "La régression linéaire multiple est à certains égards une extension relativement simple de la régression linéaire simple qui permet plus d'une variable indépen- dante. L'objectif de la régression multiple est le même que celui de la régression sim-ple; c'est-à-dire que nous voulons utiliser la relation entre une variable de réponse (dépendante) et une variable de facteur (indépendante) pour prédire ou expliquer le comportement de la variable de réponse. Cependant, les calculs sont beaucoup plus compliqués et doivent être effectués par des ordinateurs, principalement parce qu'il peut y avoir des relations entre les variables indépendantes."
   ]
  },
  {
   "cell_type": "markdown",
   "metadata": {},
   "source": [
    "Dans le cas de notre projet, on pourra élargir le domaine de nos prévisions en fonction d'autres paramètes explicatives (par exemple la vitesse)"
   ]
  },
  {
   "cell_type": "markdown",
   "metadata": {},
   "source": [
    "Notre fonction h(x) qui reprensente la relation entre les variables explicatives aura la forme suivante : **h(x,v) = a + b x + c v** ou v est la vitesse de déplacement"
   ]
  },
  {
   "cell_type": "code",
   "execution_count": 58,
   "metadata": {},
   "outputs": [],
   "source": [
    "#Extraction des données à partir du fichier JSON\n",
    "import datetime\n",
    "import distance\n",
    "\n",
    "def importJson(filepath, addColumns=True) :\n",
    "\n",
    "\t# Loading data\n",
    "\traw = pd.io.json.read_json(filepath)\n",
    "\tdf = raw['locations'].apply(pd.Series)\n",
    "\n",
    "\t# Create latitude and longitude columns\n",
    "\tdf['latitude'] = df['latitudeE7'] * 0.0000001\n",
    "\tdf['longitude'] = df['longitudeE7'] * 0.0000001\n",
    "\n",
    "\t# Clean up columns\n",
    "\tcolumns = [\"timestampMs\", \"latitude\", \"longitude\"]\n",
    "\tfor col in list(df) :\n",
    "\t\tif col not in columns :\n",
    "\t\t\tdel df[col]\n",
    "\n",
    "\t# Add date column in format 'dd-mm-YY'\n",
    "\tdates = []\n",
    "\tfor timestamp in df['timestampMs']:\n",
    "\t\tdates.append(datetime.datetime.fromtimestamp(int(timestamp) / 1000).strftime('%d-%m-%Y'))\n",
    "\tdf['date'] = dates\n",
    "\n",
    "\t# Add time column in format 'HH:MM:SS'\n",
    "\ttime = []\n",
    "\tfor row in df['timestampMs']:\n",
    "\t\ttime.append(datetime.datetime.fromtimestamp(int(row) / 1000).strftime('%H:%M:%S'))\n",
    "\tdf['time'] = time\n",
    "\n",
    "\tif not addColumns :\n",
    "\t\treturn df\n",
    "\telse :\n",
    "\t\t# Add delay column seconds\n",
    "\t\tdelay = []\n",
    "\t\tdelay.append(0)\n",
    "\t\tfor i in range(df['timestampMs'].size - 1):\n",
    "\t\t\tdelay.append(int(int(df['timestampMs'][i]) - int(df['timestampMs'][i + 1])) / 1000)\n",
    "\t\tdf['delay'] = delay\n",
    "\n",
    "\t\t# Add distance, velocity and acceleration \n",
    "\t\tdf['distance'] = distance.getDistances(df)\n",
    "\t\tdf['velocity'] = distance.getVelocities(df)\n",
    "\t\tdf['acceleration'] = distance.getAccelerations(df)\n",
    "\n",
    "\t\treturn df\n",
    "\n",
    "def selectDate(date, df) :\n",
    "\tresult = df[df['date'] == date]\n",
    "\treturn result.reset_index(drop=True) # Reset indices of dataframe\n",
    "\t"
   ]
  },
  {
   "cell_type": "code",
   "execution_count": 43,
   "metadata": {},
   "outputs": [],
   "source": [
    "iphone_df = importJson(\"iphone.json\")"
   ]
  },
  {
   "cell_type": "code",
   "execution_count": 45,
   "metadata": {},
   "outputs": [],
   "source": [
    "npMatrix = np.matrix(iphone_df) \n",
    "\n",
    "#Transformation des matrices en liste\n",
    "\n",
    "def transliste(Matrix):\n",
    "    x = [0]*50\n",
    "    for j in range(0,50):\n",
    "        a = numpy.array(Matrix)[j]\n",
    "        for i in a:\n",
    "            x[j] = i\n",
    "    return x"
   ]
  },
  {
   "cell_type": "code",
   "execution_count": 46,
   "metadata": {},
   "outputs": [],
   "source": [
    "X, Y, time,vitesse = transliste(npMatrix[:,1]), transliste(npMatrix[:,2]), transliste(npMatrix[:,4]), transliste(npMatrix[:,7])"
   ]
  },
  {
   "cell_type": "code",
   "execution_count": 57,
   "metadata": {},
   "outputs": [],
   "source": [
    "VarExp = [[0] * 2 for _ in range(50)] #Matrice des données des variables explicatives (X,V (vitesse))\n",
    "\n",
    "for j in range(0,50):\n",
    "    VarExp[j][0]= X[j]\n",
    "\n",
    "for j in range(50):\n",
    "    VarExp[j][1]= vitesse[j]"
   ]
  },
  {
   "cell_type": "code",
   "execution_count": 48,
   "metadata": {},
   "outputs": [
    {
     "name": "stderr",
     "output_type": "stream",
     "text": [
      "C:\\ProgramData\\Anaconda3\\lib\\site-packages\\statsmodels\\compat\\pandas.py:56: FutureWarning: The pandas.core.datetools module is deprecated and will be removed in a future version. Please use the pandas.tseries module instead.\n",
      "  from pandas.core import datetools\n"
     ]
    },
    {
     "data": {
      "text/plain": [
       "array([-1.21635677e+02,  2.76303812e+00, -3.86420326e-04])"
      ]
     },
     "execution_count": 48,
     "metadata": {},
     "output_type": "execute_result"
    }
   ],
   "source": [
    "import statsmodels.api as sm #Importation d'un api permettant de calculer les coeffs de la régression multiple\n",
    "X_1=sm.add_constant(VarExp)\n",
    "results=sm.OLS(Y,X_1).fit()\n",
    "results.params"
   ]
  },
  {
   "cell_type": "markdown",
   "metadata": {},
   "source": [
    "Après l'implémenter la régression multiple linéaire, nous avons eu comme résultat les 3 coefficients de l'équation de régression"
   ]
  },
  {
   "cell_type": "code",
   "execution_count": 59,
   "metadata": {},
   "outputs": [
    {
     "name": "stdout",
     "output_type": "stream",
     "text": [
      "a =  -121.63567714705755\n",
      "b = 2.7630381194584888\n",
      "c = -0.0003864203261737774\n",
      "\n",
      "\n",
      "Donc notre équation s'écrit sous la forme suivant Y =  -121.63567714705755 + 2.7630381194584888  X - 0.0003864203261737774  V\n"
     ]
    }
   ],
   "source": [
    "a = results.params[0]\n",
    "print('a = ',a)\n",
    "b = results.params[1]\n",
    "print('b =',b)\n",
    "c = results.params[2]\n",
    "print('c =',c)\n",
    "print('\\n')\n",
    "print(\"Donc notre équation s'écrit sous la forme suivant Y = \",a,\"+\",b,\" X -\",-c,\" V\")"
   ]
  }
 ],
 "metadata": {
  "kernelspec": {
   "display_name": "Python 3",
   "language": "python",
   "name": "python3"
  },
  "language_info": {
   "codemirror_mode": {
    "name": "ipython",
    "version": 3
   },
   "file_extension": ".py",
   "mimetype": "text/x-python",
   "name": "python",
   "nbconvert_exporter": "python",
   "pygments_lexer": "ipython3",
   "version": "3.6.4"
  }
 },
 "nbformat": 4,
 "nbformat_minor": 2
}
